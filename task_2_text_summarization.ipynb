{
  "nbformat": 4,
  "nbformat_minor": 0,
  "metadata": {
    "colab": {
      "provenance": []
    },
    "kernelspec": {
      "name": "python3",
      "display_name": "Python 3"
    },
    "language_info": {
      "name": "python"
    },
    "widgets": {
      "application/vnd.jupyter.widget-state+json": {
        "2bce623716f348b989ff18626e6b720d": {
          "model_module": "@jupyter-widgets/controls",
          "model_name": "HBoxModel",
          "model_module_version": "1.5.0",
          "state": {
            "_dom_classes": [],
            "_model_module": "@jupyter-widgets/controls",
            "_model_module_version": "1.5.0",
            "_model_name": "HBoxModel",
            "_view_count": null,
            "_view_module": "@jupyter-widgets/controls",
            "_view_module_version": "1.5.0",
            "_view_name": "HBoxView",
            "box_style": "",
            "children": [
              "IPY_MODEL_82c20aeaafaf4896b234565768703e23",
              "IPY_MODEL_97d1e2afb2604ad0904f3a717fe6f40a",
              "IPY_MODEL_f8d9368d55154c80998eb83409079a6a"
            ],
            "layout": "IPY_MODEL_853d5f37369447b3a445f03124f84bdc"
          }
        },
        "82c20aeaafaf4896b234565768703e23": {
          "model_module": "@jupyter-widgets/controls",
          "model_name": "HTMLModel",
          "model_module_version": "1.5.0",
          "state": {
            "_dom_classes": [],
            "_model_module": "@jupyter-widgets/controls",
            "_model_module_version": "1.5.0",
            "_model_name": "HTMLModel",
            "_view_count": null,
            "_view_module": "@jupyter-widgets/controls",
            "_view_module_version": "1.5.0",
            "_view_name": "HTMLView",
            "description": "",
            "description_tooltip": null,
            "layout": "IPY_MODEL_b341957e581c45ee9b1308f0abd1c2bd",
            "placeholder": "​",
            "style": "IPY_MODEL_bb508d3ae1314488afe649ed93a75d0e",
            "value": "Map: 100%"
          }
        },
        "97d1e2afb2604ad0904f3a717fe6f40a": {
          "model_module": "@jupyter-widgets/controls",
          "model_name": "FloatProgressModel",
          "model_module_version": "1.5.0",
          "state": {
            "_dom_classes": [],
            "_model_module": "@jupyter-widgets/controls",
            "_model_module_version": "1.5.0",
            "_model_name": "FloatProgressModel",
            "_view_count": null,
            "_view_module": "@jupyter-widgets/controls",
            "_view_module_version": "1.5.0",
            "_view_name": "ProgressView",
            "bar_style": "success",
            "description": "",
            "description_tooltip": null,
            "layout": "IPY_MODEL_bc3a243ed09f4dc2923ccc0e824f678d",
            "max": 50,
            "min": 0,
            "orientation": "horizontal",
            "style": "IPY_MODEL_76d4e1672fdf4920946855de06d66ba3",
            "value": 50
          }
        },
        "f8d9368d55154c80998eb83409079a6a": {
          "model_module": "@jupyter-widgets/controls",
          "model_name": "HTMLModel",
          "model_module_version": "1.5.0",
          "state": {
            "_dom_classes": [],
            "_model_module": "@jupyter-widgets/controls",
            "_model_module_version": "1.5.0",
            "_model_name": "HTMLModel",
            "_view_count": null,
            "_view_module": "@jupyter-widgets/controls",
            "_view_module_version": "1.5.0",
            "_view_name": "HTMLView",
            "description": "",
            "description_tooltip": null,
            "layout": "IPY_MODEL_c2d6a6846aef4494ba6e2e01f14fe4fe",
            "placeholder": "​",
            "style": "IPY_MODEL_90d86a5446f64e15ad00ff9a4971064c",
            "value": " 50/50 [00:00&lt;00:00, 62.93 examples/s]"
          }
        },
        "853d5f37369447b3a445f03124f84bdc": {
          "model_module": "@jupyter-widgets/base",
          "model_name": "LayoutModel",
          "model_module_version": "1.2.0",
          "state": {
            "_model_module": "@jupyter-widgets/base",
            "_model_module_version": "1.2.0",
            "_model_name": "LayoutModel",
            "_view_count": null,
            "_view_module": "@jupyter-widgets/base",
            "_view_module_version": "1.2.0",
            "_view_name": "LayoutView",
            "align_content": null,
            "align_items": null,
            "align_self": null,
            "border": null,
            "bottom": null,
            "display": null,
            "flex": null,
            "flex_flow": null,
            "grid_area": null,
            "grid_auto_columns": null,
            "grid_auto_flow": null,
            "grid_auto_rows": null,
            "grid_column": null,
            "grid_gap": null,
            "grid_row": null,
            "grid_template_areas": null,
            "grid_template_columns": null,
            "grid_template_rows": null,
            "height": null,
            "justify_content": null,
            "justify_items": null,
            "left": null,
            "margin": null,
            "max_height": null,
            "max_width": null,
            "min_height": null,
            "min_width": null,
            "object_fit": null,
            "object_position": null,
            "order": null,
            "overflow": null,
            "overflow_x": null,
            "overflow_y": null,
            "padding": null,
            "right": null,
            "top": null,
            "visibility": null,
            "width": null
          }
        },
        "b341957e581c45ee9b1308f0abd1c2bd": {
          "model_module": "@jupyter-widgets/base",
          "model_name": "LayoutModel",
          "model_module_version": "1.2.0",
          "state": {
            "_model_module": "@jupyter-widgets/base",
            "_model_module_version": "1.2.0",
            "_model_name": "LayoutModel",
            "_view_count": null,
            "_view_module": "@jupyter-widgets/base",
            "_view_module_version": "1.2.0",
            "_view_name": "LayoutView",
            "align_content": null,
            "align_items": null,
            "align_self": null,
            "border": null,
            "bottom": null,
            "display": null,
            "flex": null,
            "flex_flow": null,
            "grid_area": null,
            "grid_auto_columns": null,
            "grid_auto_flow": null,
            "grid_auto_rows": null,
            "grid_column": null,
            "grid_gap": null,
            "grid_row": null,
            "grid_template_areas": null,
            "grid_template_columns": null,
            "grid_template_rows": null,
            "height": null,
            "justify_content": null,
            "justify_items": null,
            "left": null,
            "margin": null,
            "max_height": null,
            "max_width": null,
            "min_height": null,
            "min_width": null,
            "object_fit": null,
            "object_position": null,
            "order": null,
            "overflow": null,
            "overflow_x": null,
            "overflow_y": null,
            "padding": null,
            "right": null,
            "top": null,
            "visibility": null,
            "width": null
          }
        },
        "bb508d3ae1314488afe649ed93a75d0e": {
          "model_module": "@jupyter-widgets/controls",
          "model_name": "DescriptionStyleModel",
          "model_module_version": "1.5.0",
          "state": {
            "_model_module": "@jupyter-widgets/controls",
            "_model_module_version": "1.5.0",
            "_model_name": "DescriptionStyleModel",
            "_view_count": null,
            "_view_module": "@jupyter-widgets/base",
            "_view_module_version": "1.2.0",
            "_view_name": "StyleView",
            "description_width": ""
          }
        },
        "bc3a243ed09f4dc2923ccc0e824f678d": {
          "model_module": "@jupyter-widgets/base",
          "model_name": "LayoutModel",
          "model_module_version": "1.2.0",
          "state": {
            "_model_module": "@jupyter-widgets/base",
            "_model_module_version": "1.2.0",
            "_model_name": "LayoutModel",
            "_view_count": null,
            "_view_module": "@jupyter-widgets/base",
            "_view_module_version": "1.2.0",
            "_view_name": "LayoutView",
            "align_content": null,
            "align_items": null,
            "align_self": null,
            "border": null,
            "bottom": null,
            "display": null,
            "flex": null,
            "flex_flow": null,
            "grid_area": null,
            "grid_auto_columns": null,
            "grid_auto_flow": null,
            "grid_auto_rows": null,
            "grid_column": null,
            "grid_gap": null,
            "grid_row": null,
            "grid_template_areas": null,
            "grid_template_columns": null,
            "grid_template_rows": null,
            "height": null,
            "justify_content": null,
            "justify_items": null,
            "left": null,
            "margin": null,
            "max_height": null,
            "max_width": null,
            "min_height": null,
            "min_width": null,
            "object_fit": null,
            "object_position": null,
            "order": null,
            "overflow": null,
            "overflow_x": null,
            "overflow_y": null,
            "padding": null,
            "right": null,
            "top": null,
            "visibility": null,
            "width": null
          }
        },
        "76d4e1672fdf4920946855de06d66ba3": {
          "model_module": "@jupyter-widgets/controls",
          "model_name": "ProgressStyleModel",
          "model_module_version": "1.5.0",
          "state": {
            "_model_module": "@jupyter-widgets/controls",
            "_model_module_version": "1.5.0",
            "_model_name": "ProgressStyleModel",
            "_view_count": null,
            "_view_module": "@jupyter-widgets/base",
            "_view_module_version": "1.2.0",
            "_view_name": "StyleView",
            "bar_color": null,
            "description_width": ""
          }
        },
        "c2d6a6846aef4494ba6e2e01f14fe4fe": {
          "model_module": "@jupyter-widgets/base",
          "model_name": "LayoutModel",
          "model_module_version": "1.2.0",
          "state": {
            "_model_module": "@jupyter-widgets/base",
            "_model_module_version": "1.2.0",
            "_model_name": "LayoutModel",
            "_view_count": null,
            "_view_module": "@jupyter-widgets/base",
            "_view_module_version": "1.2.0",
            "_view_name": "LayoutView",
            "align_content": null,
            "align_items": null,
            "align_self": null,
            "border": null,
            "bottom": null,
            "display": null,
            "flex": null,
            "flex_flow": null,
            "grid_area": null,
            "grid_auto_columns": null,
            "grid_auto_flow": null,
            "grid_auto_rows": null,
            "grid_column": null,
            "grid_gap": null,
            "grid_row": null,
            "grid_template_areas": null,
            "grid_template_columns": null,
            "grid_template_rows": null,
            "height": null,
            "justify_content": null,
            "justify_items": null,
            "left": null,
            "margin": null,
            "max_height": null,
            "max_width": null,
            "min_height": null,
            "min_width": null,
            "object_fit": null,
            "object_position": null,
            "order": null,
            "overflow": null,
            "overflow_x": null,
            "overflow_y": null,
            "padding": null,
            "right": null,
            "top": null,
            "visibility": null,
            "width": null
          }
        },
        "90d86a5446f64e15ad00ff9a4971064c": {
          "model_module": "@jupyter-widgets/controls",
          "model_name": "DescriptionStyleModel",
          "model_module_version": "1.5.0",
          "state": {
            "_model_module": "@jupyter-widgets/controls",
            "_model_module_version": "1.5.0",
            "_model_name": "DescriptionStyleModel",
            "_view_count": null,
            "_view_module": "@jupyter-widgets/base",
            "_view_module_version": "1.2.0",
            "_view_name": "StyleView",
            "description_width": ""
          }
        }
      }
    }
  },
  "cells": [
    {
      "cell_type": "markdown",
      "source": [
        "# **Task 2: Text Summarization**\n",
        "**Objective:**Create a system that summarizes lengthy articles, blogs, or news into concise summaries.\n",
        "\n",
        "**● Dataset:** CNN/Daily Mail Dataset\n",
        "\n",
        "**● Steps:**\n",
        "1. Preprocess textual data for summarization.\n",
        "2. Implement extractive summarization using libraries like spaCy.\n",
        "3. Implement abstractive summarization using pre-trained models like BERT or\n",
        "GPT with HuggingFace's transformers.\n",
        "4. Fine-tune models to improve the quality of summaries.\n",
        "5. Test the model on real-world articles and evaluate summary coherence.\n",
        "\n",
        "**● Outcome:** A summarization model capable of generating concise summaries from long texts."
      ],
      "metadata": {
        "id": "P2p0bnw-JgTl"
      }
    },
    {
      "cell_type": "markdown",
      "source": [
        "# **1. Load and Preprocess Data**\n",
        "\n",
        "Preprocess textual data for summarization."
      ],
      "metadata": {
        "id": "J5aCi7RfKEll"
      }
    },
    {
      "cell_type": "code",
      "source": [
        "!pip install datasets transformers spacy rouge_score evaluate nbstripout -q\n",
        "!python -m spacy download en_core_web_sm\n"
      ],
      "metadata": {
        "colab": {
          "base_uri": "https://localhost:8080/"
        },
        "id": "bHD8IUHTBNTO",
        "outputId": "a7f0e8c7-f86e-4150-9c56-5c4c1ae870f8"
      },
      "execution_count": 24,
      "outputs": [
        {
          "output_type": "stream",
          "name": "stdout",
          "text": [
            "Collecting en-core-web-sm==3.8.0\n",
            "  Downloading https://github.com/explosion/spacy-models/releases/download/en_core_web_sm-3.8.0/en_core_web_sm-3.8.0-py3-none-any.whl (12.8 MB)\n",
            "\u001b[2K     \u001b[90m━━━━━━━━━━━━━━━━━━━━━━━━━━━━━━━━━━━━━━━━\u001b[0m \u001b[32m12.8/12.8 MB\u001b[0m \u001b[31m73.4 MB/s\u001b[0m eta \u001b[36m0:00:00\u001b[0m\n",
            "\u001b[?25h\u001b[38;5;2m✔ Download and installation successful\u001b[0m\n",
            "You can now load the package via spacy.load('en_core_web_sm')\n",
            "\u001b[38;5;3m⚠ Restart to reload dependencies\u001b[0m\n",
            "If you are in a Jupyter or Colab notebook, you may need to restart Python in\n",
            "order to load all the package's dependencies. You can do this by selecting the\n",
            "'Restart kernel' or 'Restart runtime' option.\n"
          ]
        }
      ]
    },
    {
      "cell_type": "code",
      "source": [
        "from datasets import load_dataset\n",
        "import spacy"
      ],
      "metadata": {
        "id": "KnY9y4zFBNPs"
      },
      "execution_count": 25,
      "outputs": []
    },
    {
      "cell_type": "markdown",
      "source": [
        "# **Load dataset**\n",
        "\n",
        "CNN/Daily Mail Dataset"
      ],
      "metadata": {
        "id": "9POSajASKMmL"
      }
    },
    {
      "cell_type": "code",
      "source": [
        "dataset = load_dataset(\"cnn_dailymail\", \"3.0.0\")\n",
        "nlp = spacy.load(\"en_core_web_sm\")\n"
      ],
      "metadata": {
        "id": "EfOMgziCBM_i"
      },
      "execution_count": 26,
      "outputs": []
    },
    {
      "cell_type": "code",
      "source": [
        "\n",
        "# Select first sample\n",
        "article = dataset['train'][0]['article']\n",
        "reference_summary = dataset['train'][0]['highlights']"
      ],
      "metadata": {
        "id": "aMjGEH_BFSEA"
      },
      "execution_count": 27,
      "outputs": []
    },
    {
      "cell_type": "markdown",
      "source": [
        "# **2. Extractive Summarization using spaCy**\n",
        "Implement extractive summarization using libraries like spaCy."
      ],
      "metadata": {
        "id": "TeU1OxOALjQK"
      }
    },
    {
      "cell_type": "code",
      "source": [
        "def extractive_summary(text, num_sentences=3):\n",
        "    doc = nlp(text)\n",
        "    sentences = list(doc.sents)\n",
        "    sorted_sentences = sorted(sentences, key=lambda s: len(s), reverse=True)\n",
        "    selected = sorted_sentences[:num_sentences]\n",
        "    return \" \".join([s.text.strip() for s in selected])\n",
        "\n",
        "extractive = extractive_summary(article)\n",
        "print(\"\\n[Extractive Summary]\\n\", extractive)\n"
      ],
      "metadata": {
        "colab": {
          "base_uri": "https://localhost:8080/"
        },
        "id": "ki7P1M-MFYcl",
        "outputId": "ce93bc95-e7fc-468a-e42d-eed60556e1f7"
      },
      "execution_count": 28,
      "outputs": [
        {
          "output_type": "stream",
          "name": "stdout",
          "text": [
            "\n",
            "[Extractive Summary]\n",
            " Daniel Radcliffe as Harry Potter in \"Harry Potter and the Order of the Phoenix\" To the disappointment of gossip columnists around the world, the young actor says he has no plans to fritter his cash away on fast cars, drink and celebrity parties. LONDON, England (Reuters) -- Harry Potter star Daniel Radcliffe gains access to a reported £20 million ($41.1 million) fortune as he turns 18 on Monday, but he insists the money won't cast a spell on him. At 18, Radcliffe will be able to gamble in a casino, buy a drink in a pub or see the horror film \"Hostel: Part II,\" currently six places below his number one movie on the UK box office chart.\n"
          ]
        }
      ]
    },
    {
      "cell_type": "markdown",
      "source": [
        "# **3. Abstractive Summarization using Transformers (BART)**\n",
        "\n",
        "Implement abstractive summarization using pre-trained models like BERT or\n",
        "GPT with HuggingFace's transformers."
      ],
      "metadata": {
        "id": "TS195VfKMIuu"
      }
    },
    {
      "cell_type": "code",
      "source": [
        "from transformers import pipeline\n",
        "\n",
        "summarizer = pipeline(\"summarization\", model=\"facebook/bart-large-cnn\")\n",
        "abstractive = summarizer(article, max_length=130, min_length=30, do_sample=False)[0]['summary_text']\n",
        "print(\"\\n[Abstractive Summary]\\n\", abstractive)\n"
      ],
      "metadata": {
        "colab": {
          "base_uri": "https://localhost:8080/"
        },
        "id": "LoEN0-21FZxA",
        "outputId": "2d7f30fd-4887-47f0-9cb4-72c6bf6075ad"
      },
      "execution_count": 29,
      "outputs": [
        {
          "output_type": "stream",
          "name": "stderr",
          "text": [
            "Device set to use cpu\n"
          ]
        },
        {
          "output_type": "stream",
          "name": "stdout",
          "text": [
            "\n",
            "[Abstractive Summary]\n",
            " Harry Potter star Daniel Radcliffe turns 18 on Monday. He gains access to a reported £20 million ($41.1 million) fortune. Radcliffe's earnings from the first five Potter films have been held in a trust fund.\n"
          ]
        }
      ]
    },
    {
      "cell_type": "markdown",
      "source": [
        "# **4. Fine-Tuning BART on CNN/DailyMail (Toy Example)**\n",
        "Fine-tune models to improve the quality of summaries."
      ],
      "metadata": {
        "id": "ZVvoYq4ZMRoY"
      }
    },
    {
      "cell_type": "code",
      "source": [
        "from transformers import Seq2SeqTrainer, Seq2SeqTrainingArguments, BartTokenizer, BartForConditionalGeneration\n",
        "from datasets import Dataset\n",
        "import torch\n",
        "\n",
        "# Small sample for fine-tuning\n",
        "fine_tune_data = Dataset.from_dict({\n",
        "    'text': [dataset['train'][i]['article'] for i in range(50)],\n",
        "    'summary': [dataset['train'][i]['highlights'] for i in range(50)]\n",
        "})\n",
        "\n",
        "# Load model and tokenizer\n",
        "model_name = \"facebook/bart-base\"\n",
        "tokenizer = BartTokenizer.from_pretrained(model_name)\n",
        "model = BartForConditionalGeneration.from_pretrained(model_name)\n",
        "\n",
        "# Tokenization\n",
        "def tokenize(batch):\n",
        "    inputs = tokenizer(batch['text'], max_length=1024, truncation=True, padding=\"max_length\")\n",
        "    targets = tokenizer(batch['summary'], max_length=128, truncation=True, padding=\"max_length\")\n",
        "    batch[\"input_ids\"] = inputs.input_ids\n",
        "    batch[\"attention_mask\"] = inputs.attention_mask\n",
        "    batch[\"labels\"] = targets.input_ids\n",
        "    return batch\n",
        "\n",
        "fine_tune_data = fine_tune_data.map(tokenize, batched=True)\n",
        "fine_tune_data.set_format(type='torch', columns=['input_ids', 'attention_mask', 'labels'])\n",
        "\n",
        "# Training config\n",
        "training_args = Seq2SeqTrainingArguments(\n",
        "    output_dir=\"./results\",\n",
        "    num_train_epochs=1,\n",
        "    per_device_train_batch_size=2,\n",
        "    logging_steps=10,\n",
        "    save_steps=10,\n",
        "    logging_dir=\"./logs\",\n",
        "    report_to=\"none\"\n",
        ")\n",
        "\n",
        "trainer = Seq2SeqTrainer(\n",
        "    model=model,\n",
        "    args=training_args,\n",
        "    train_dataset=fine_tune_data\n",
        ")\n",
        "\n",
        "# Optional training (commented for demo)\n",
        "# trainer.train()\n",
        "\n",
        "print(\"\\n[Fine-tuning Step Ready]\\nFine-tuning setup completed. Training skipped for demo purposes.\")\n"
      ],
      "metadata": {
        "colab": {
          "base_uri": "https://localhost:8080/",
          "height": 104,
          "referenced_widgets": [
            "2bce623716f348b989ff18626e6b720d",
            "82c20aeaafaf4896b234565768703e23",
            "97d1e2afb2604ad0904f3a717fe6f40a",
            "f8d9368d55154c80998eb83409079a6a",
            "853d5f37369447b3a445f03124f84bdc",
            "b341957e581c45ee9b1308f0abd1c2bd",
            "bb508d3ae1314488afe649ed93a75d0e",
            "bc3a243ed09f4dc2923ccc0e824f678d",
            "76d4e1672fdf4920946855de06d66ba3",
            "c2d6a6846aef4494ba6e2e01f14fe4fe",
            "90d86a5446f64e15ad00ff9a4971064c"
          ]
        },
        "id": "nmZ_jedsGPlJ",
        "outputId": "185a8d42-28d8-4545-b6b7-698703d987c2"
      },
      "execution_count": 30,
      "outputs": [
        {
          "output_type": "display_data",
          "data": {
            "text/plain": [
              "Map:   0%|          | 0/50 [00:00<?, ? examples/s]"
            ],
            "application/vnd.jupyter.widget-view+json": {
              "version_major": 2,
              "version_minor": 0,
              "model_id": "2bce623716f348b989ff18626e6b720d"
            }
          },
          "metadata": {}
        },
        {
          "output_type": "stream",
          "name": "stdout",
          "text": [
            "\n",
            "[Fine-tuning Step Ready]\n",
            "Fine-tuning setup completed. Training skipped for demo purposes.\n"
          ]
        }
      ]
    },
    {
      "cell_type": "code",
      "source": [
        "import evaluate\n",
        "rouge = evaluate.load(\"rouge\")\n",
        "\n",
        "def evaluate_summary(reference, generated):\n",
        "    return rouge.compute(predictions=[generated], references=[reference])\n",
        "\n",
        "print(\"\\n[Evaluation - Extractive Summary]\\n\", evaluate_summary(reference_summary, extractive))\n",
        "print(\"\\n[Evaluation - Abstractive Summary]\\n\", evaluate_summary(reference_summary, abstractive))\n"
      ],
      "metadata": {
        "colab": {
          "base_uri": "https://localhost:8080/"
        },
        "id": "FNQBinY5GPW3",
        "outputId": "d8ed6aa1-dda7-4523-9885-82ca9f9746b5"
      },
      "execution_count": 31,
      "outputs": [
        {
          "output_type": "stream",
          "name": "stdout",
          "text": [
            "\n",
            "[Evaluation - Extractive Summary]\n",
            " {'rouge1': np.float64(0.3291139240506329), 'rouge2': np.float64(0.24358974358974356), 'rougeL': np.float64(0.21518987341772156), 'rougeLsum': np.float64(0.3291139240506329)}\n",
            "\n",
            "[Evaluation - Abstractive Summary]\n",
            " {'rouge1': np.float64(0.6578947368421052), 'rouge2': np.float64(0.43243243243243246), 'rougeL': np.float64(0.631578947368421), 'rougeLsum': np.float64(0.631578947368421)}\n"
          ]
        }
      ]
    },
    {
      "cell_type": "markdown",
      "source": [
        "# **5. Test on New Real-World Article**\n",
        "\n",
        "Test the model on real-world articles and evaluate summary coherence."
      ],
      "metadata": {
        "id": "P-LRQS51MZm7"
      }
    },
    {
      "cell_type": "code",
      "source": [
        "new_article = dataset['test'][1]['article']\n",
        "real_world_summary = summarizer(new_article, max_length=130, min_length=30, do_sample=False)[0]['summary_text']\n",
        "\n",
        "print(\"\\n[Test on Real-world Article]\\n\", real_world_summary)\n",
        "print(\"\\n[Final Concise Summary Output]\\n\", abstractive)\n"
      ],
      "metadata": {
        "colab": {
          "base_uri": "https://localhost:8080/"
        },
        "id": "-nysV1OnGO_9",
        "outputId": "2907d6b4-3561-4f1c-9b3a-22af52d612ad"
      },
      "execution_count": 32,
      "outputs": [
        {
          "output_type": "stream",
          "name": "stdout",
          "text": [
            "\n",
            "[Test on Real-world Article]\n",
            " Theia, a one-year-old bully breed mix, was hit by a car and buried in a field. She managed to stagger to a nearby farm, dirt-covered and emaciated. She suffered a dislocated jaw, leg injuries and a caved-in sinus cavity.\n",
            "\n",
            "[Final Concise Summary Output]\n",
            " Harry Potter star Daniel Radcliffe turns 18 on Monday. He gains access to a reported £20 million ($41.1 million) fortune. Radcliffe's earnings from the first five Potter films have been held in a trust fund.\n"
          ]
        }
      ]
    }
  ]
}