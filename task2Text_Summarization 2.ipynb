{
  "cells": [
    {
      "cell_type": "markdown",
      "metadata": {
        "id": "nlQMDc_9jBir"
      },
      "source": [
        "# **Task 2: Text Summarization**\n",
        "**Objective:**Create a system that summarizes lengthy articles, blogs, or news into concise summaries.\n",
        "\n",
        "**● Dataset:** CNN/Daily Mail Dataset\n",
        "\n",
        "**● Steps:**\n",
        "1. Preprocess textual data for summarization.\n",
        "2. Implement extractive summarization using libraries like spaCy.\n",
        "3. Implement abstractive summarization using pre-trained models like BERT or\n",
        "GPT with HuggingFace's transformers.\n",
        "4. Fine-tune models to improve the quality of summaries.\n",
        "5. Test the model on real-world articles and evaluate summary coherence.\n",
        "\n",
        "**● Outcome:** A summarization model capable of generating concise summaries from long texts."
      ]
    },
    {
      "cell_type": "markdown",
      "metadata": {
        "id": "VgXVxPIx0-_2"
      },
      "source": [
        "# **Installations**"
      ]
    },
    {
      "cell_type": "code",
      "execution_count": 21,
      "metadata": {
        "colab": {
          "base_uri": "https://localhost:8080/"
        },
        "id": "984PAa1LpGpX",
        "outputId": "c3f1e3bd-f89a-43b1-8af4-aa0e0fa7c171"
      },
      "outputs": [
        {
          "name": "stdout",
          "output_type": "stream",
          "text": [
            "Collecting en-core-web-sm==3.8.0\n",
            "  Downloading https://github.com/explosion/spacy-models/releases/download/en_core_web_sm-3.8.0/en_core_web_sm-3.8.0-py3-none-any.whl (12.8 MB)\n",
            "\u001b[2K     \u001b[90m━━━━━━━━━━━━━━━━━━━━━━━━━━━━━━━━━━━━━━━━\u001b[0m \u001b[32m12.8/12.8 MB\u001b[0m \u001b[31m62.4 MB/s\u001b[0m eta \u001b[36m0:00:00\u001b[0m\n",
            "\u001b[?25h\u001b[38;5;2m✔ Download and installation successful\u001b[0m\n",
            "You can now load the package via spacy.load('en_core_web_sm')\n",
            "\u001b[38;5;3m⚠ Restart to reload dependencies\u001b[0m\n",
            "If you are in a Jupyter or Colab notebook, you may need to restart Python in\n",
            "order to load all the package's dependencies. You can do this by selecting the\n",
            "'Restart kernel' or 'Restart runtime' option.\n"
          ]
        }
      ],
      "source": [
        "!pip install datasets transformers spacy rouge_score evaluate -q\n",
        "!python -m spacy download en_core_web_sm"
      ]
    },
    {
      "cell_type": "markdown",
      "metadata": {
        "id": "auyec_9S2C5B"
      },
      "source": [
        "# **1. Load and Preprocess Data**\n",
        "\n",
        "Preprocess textual data for summarization."
      ]
    },
    {
      "cell_type": "code",
      "execution_count": 32,
      "metadata": {
        "id": "ztGIXK-b2Ohk"
      },
      "outputs": [],
      "source": [
        "from datasets import load_dataset\n",
        "import spacy"
      ]
    },
    {
      "cell_type": "markdown",
      "metadata": {
        "id": "ah_U_geH2UHQ"
      },
      "source": [
        "# **Load dataset**\n",
        "\n",
        "CNN/Daily Mail Dataset"
      ]
    },
    {
      "cell_type": "code",
      "execution_count": 22,
      "metadata": {
        "id": "191lJOvJpq0H"
      },
      "outputs": [],
      "source": [
        "dataset = load_dataset(\"cnn_dailymail\", \"3.0.0\")\n"
      ]
    },
    {
      "cell_type": "code",
      "execution_count": 23,
      "metadata": {
        "id": "r90mKlxpp8lO"
      },
      "outputs": [],
      "source": [
        "# Load spaCy model\n",
        "nlp = spacy.load(\"en_core_web_sm\")\n",
        "# Extract a sample article for demonstration\n",
        "article = dataset['train'][0]['article']\n",
        "reference_summary = dataset['train'][0]['highlights']"
      ]
    },
    {
      "cell_type": "markdown",
      "metadata": {
        "id": "DFPA6lqM1Z7r"
      },
      "source": [
        "# **2. Extractive Summarization using spaCy**\n",
        "Implement extractive summarization using libraries like spaCy."
      ]
    },
    {
      "cell_type": "code",
      "execution_count": 24,
      "metadata": {
        "colab": {
          "base_uri": "https://localhost:8080/"
        },
        "id": "QLmD1i1jqMMl",
        "outputId": "9076207d-9385-4648-8e92-f2b49849bd0b"
      },
      "outputs": [
        {
          "name": "stdout",
          "output_type": "stream",
          "text": [
            "\n",
            "[Extractive Summary]\n",
            " Daniel Radcliffe as Harry Potter in \"Harry Potter and the Order of the Phoenix\" To the disappointment of gossip columnists around the world, the young actor says he has no plans to fritter his cash away on fast cars, drink and celebrity parties. LONDON, England (Reuters) -- Harry Potter star Daniel Radcliffe gains access to a reported £20 million ($41.1 million) fortune as he turns 18 on Monday, but he insists the money won't cast a spell on him. At 18, Radcliffe will be able to gamble in a casino, buy a drink in a pub or see the horror film \"Hostel: Part II,\" currently six places below his number one movie on the UK box office chart.\n"
          ]
        }
      ],
      "source": [
        "def extractive_summary(text, num_sentences=3):\n",
        "    doc = nlp(text)\n",
        "    sentences = list(doc.sents)\n",
        "    sorted_sentences = sorted(sentences, key=lambda s: len(s), reverse=True)\n",
        "    selected = sorted_sentences[:num_sentences]\n",
        "    return \" \".join([s.text.strip() for s in selected])\n",
        "\n",
        "extractive = extractive_summary(article)\n",
        "print(\"\\n[Extractive Summary]\\n\", extractive)\n"
      ]
    },
    {
      "cell_type": "markdown",
      "metadata": {
        "id": "ZiWAX8uU3TL6"
      },
      "source": [
        "# **3. Abstractive Summarization using Transformers (BART)**\n",
        "\n",
        "Implement abstractive summarization using pre-trained models like BERT or\n",
        "GPT with HuggingFace's transformers."
      ]
    },
    {
      "cell_type": "code",
      "execution_count": 36,
      "metadata": {
        "colab": {
          "base_uri": "https://localhost:8080/"
        },
        "id": "LmkLHW1jr6OA",
        "outputId": "8650e06a-c5b4-4cce-cfbb-a55047130b58"
      },
      "outputs": [
        {
          "name": "stderr",
          "output_type": "stream",
          "text": [
            "Device set to use cpu\n"
          ]
        },
        {
          "name": "stdout",
          "output_type": "stream",
          "text": [
            "\n",
            "[Abstractive Summary]\n",
            " Harry Potter star Daniel Radcliffe turns 18 on Monday. He gains access to a reported £20 million ($41.1 million) fortune. Radcliffe's earnings from the first five Potter films have been held in a trust fund.\n"
          ]
        }
      ],
      "source": [
        "from transformers import pipeline\n",
        "\n",
        "# Load summarization pipeline\n",
        "summarizer = pipeline(\"summarization\", model=\"facebook/bart-large-cnn\")\n",
        "\n",
        "# Run abstractive summarization\n",
        "abstractive = summarizer(article, max_length=130, min_length=30, do_sample=False)[0]['summary_text']\n",
        "print(\"\\n[Abstractive Summary]\\n\", abstractive)\n",
        "\n",
        "\n"
      ]
    },
    {
      "cell_type": "markdown",
      "metadata": {
        "id": "m9lKmv_Z5CWP"
      },
      "source": [
        "# **4. Fine-Tuning BART on CNN/DailyMail (Toy Example)**\n",
        "Fine-tune models to improve the quality of summaries."
      ]
    },
    {
      "cell_type": "code",
      "execution_count": 37,
      "metadata": {
        "colab": {
          "base_uri": "https://localhost:8080/",
          "height": 104,
          "referenced_widgets": [
            "dc83df18c0b84fc4b93725ab1c160747",
            "aba4ee5b267b498697afade93d7906ee",
            "f7966504cc304ef9afaac478dd42b32d",
            "23909518b4b14c6797d38bdb58e4559f",
            "2495e1039e6642ebb2dd494b2ba7b415",
            "4aa67ddc7cf842abafee94a88981bb14",
            "906d9356c1914dcb89300bf21508f102",
            "460c3f944ad5445788933bf745a148fe",
            "cb649edb9db14234919154e9ac7cfa47",
            "5ace22dad5aa4af08baeb73cdb53906a",
            "4b0acec0759443059ea71c7aa4d56966"
          ]
        },
        "id": "wq5E32vew6rp",
        "outputId": "188dd590-50b1-4011-f585-922d96cacbc6"
      },
      "outputs": [
        {
          "data": {
            "application/vnd.jupyter.widget-view+json": {
              "model_id": "dc83df18c0b84fc4b93725ab1c160747",
              "version_major": 2,
              "version_minor": 0
            },
            "text/plain": [
              "Map:   0%|          | 0/50 [00:00<?, ? examples/s]"
            ]
          },
          "metadata": {},
          "output_type": "display_data"
        },
        {
          "name": "stdout",
          "output_type": "stream",
          "text": [
            "\n",
            "[Fine-tuning Step Ready]\n",
            "Fine-tuning setup completed. Training skipped for demo purposes.\n"
          ]
        }
      ],
      "source": [
        "from transformers import Seq2SeqTrainer, Seq2SeqTrainingArguments, BartTokenizer, BartForConditionalGeneration\n",
        "from datasets import Dataset\n",
        "import torch\n",
        "\n",
        "# Prepare small dataset for fine-tuning\n",
        "fine_tune_data = Dataset.from_dict({\n",
        "    'text': [dataset['train'][i]['article'] for i in range(50)],\n",
        "    'summary': [dataset['train'][i]['highlights'] for i in range(50)]\n",
        "})\n",
        "\n",
        "model_name = \"facebook/bart-base\"\n",
        "tokenizer = BartTokenizer.from_pretrained(model_name)\n",
        "model = BartForConditionalGeneration.from_pretrained(model_name)\n",
        "\n",
        "# Tokenization function\n",
        "def tokenize(batch):\n",
        "    inputs = tokenizer(batch['text'], max_length=1024, truncation=True, padding=\"max_length\")\n",
        "    targets = tokenizer(batch['summary'], max_length=128, truncation=True, padding=\"max_length\")\n",
        "    batch[\"input_ids\"] = inputs.input_ids\n",
        "    batch[\"attention_mask\"] = inputs.attention_mask\n",
        "    batch[\"labels\"] = targets.input_ids\n",
        "    return batch\n",
        "\n",
        "fine_tune_data = fine_tune_data.map(tokenize, batched=True)\n",
        "fine_tune_data.set_format(type='torch', columns=['input_ids', 'attention_mask', 'labels'])\n",
        "\n",
        "# Training arguments (corrected)\n",
        "training_args = Seq2SeqTrainingArguments(\n",
        "    output_dir=\"./results\",\n",
        "    num_train_epochs=1,\n",
        "    per_device_train_batch_size=2,\n",
        "    logging_steps=10,\n",
        "    save_steps=10,\n",
        "    logging_dir=\"./logs\",\n",
        "    report_to=\"none\"\n",
        ")\n",
        "\n",
        "trainer = Seq2SeqTrainer(\n",
        "    model=model,\n",
        "    args=training_args,\n",
        "    train_dataset=fine_tune_data\n",
        ")\n",
        "\n",
        "# Optional: Uncomment to train (requires resources)\n",
        "# trainer.train()\n",
        "print(\"\\n[Fine-tuning Step Ready]\\nFine-tuning setup completed. Training skipped for demo purposes.\")\n"
      ]
    },
    {
      "cell_type": "code",
      "execution_count": 39,
      "metadata": {
        "colab": {
          "base_uri": "https://localhost:8080/"
        },
        "id": "egVCiqd40LvJ",
        "outputId": "67d89eb8-edd8-4591-f1c5-b66338555768"
      },
      "outputs": [
        {
          "name": "stdout",
          "output_type": "stream",
          "text": [
            "\n",
            "[Evaluation - Extractive Summary]\n",
            " {'rouge1': np.float64(0.3291139240506329), 'rouge2': np.float64(0.24358974358974356), 'rougeL': np.float64(0.21518987341772156), 'rougeLsum': np.float64(0.3291139240506329)}\n",
            "\n",
            "[Evaluation - Abstractive Summary]\n",
            " {'rouge1': np.float64(0.6578947368421052), 'rouge2': np.float64(0.43243243243243246), 'rougeL': np.float64(0.631578947368421), 'rougeLsum': np.float64(0.631578947368421)}\n"
          ]
        }
      ],
      "source": [
        "#  Evaluation using ROUGE\n",
        "import evaluate\n",
        "rouge = evaluate.load(\"rouge\")\n",
        "\n",
        "def evaluate_summary(reference, generated):\n",
        "    return rouge.compute(predictions=[generated], references=[reference])\n",
        "\n",
        "print(\"\\n[Evaluation - Extractive Summary]\\n\", evaluate_summary(reference_summary, extractive))\n",
        "print(\"\\n[Evaluation - Abstractive Summary]\\n\", evaluate_summary(reference_summary, abstractive))\n"
      ]
    },
    {
      "cell_type": "markdown",
      "metadata": {
        "id": "o6-EQ8Eh5ixw"
      },
      "source": [
        "# **5. Test on New Real-World Article**\n",
        "\n",
        "Test the model on real-world articles and evaluate summary coherence."
      ]
    },
    {
      "cell_type": "code",
      "execution_count": 40,
      "metadata": {
        "colab": {
          "base_uri": "https://localhost:8080/"
        },
        "id": "N1LTXOee5cPw",
        "outputId": "98c8a9bc-5f4b-4ef2-e2dc-7cbf090713fd"
      },
      "outputs": [
        {
          "name": "stdout",
          "output_type": "stream",
          "text": [
            "\n",
            "[Test on Real-world Article]\n",
            " Theia, a one-year-old bully breed mix, was hit by a car and buried in a field. She managed to stagger to a nearby farm, dirt-covered and emaciated. She suffered a dislocated jaw, leg injuries and a caved-in sinus cavity.\n",
            "\n",
            "[Final Concise Summary Output]\n",
            "\n",
            "Harry Potter star Daniel Radcliffe turns 18 on Monday. He gains access to a reported £20 million ($41.1 million) fortune. Radcliffe's earnings from the first five Potter films have been held in a trust fund.\n"
          ]
        }
      ],
      "source": [
        "new_article = dataset['test'][1]['article']\n",
        "real_world_summary = summarizer(new_article, max_length=130, min_length=30, do_sample=False)[0]['summary_text']\n",
        "print(\"\\n[Test on Real-world Article]\\n\", real_world_summary)\n",
        "\n",
        "# Final Output: Concise Summary\n",
        "print(\"\\n[Final Concise Summary Output]\\n\")\n",
        "print(abstractive)"
      ]
    }
  ],
  "metadata": {
    "colab": {
      "provenance": []
    },
    "kernelspec": {
      "display_name": "Python 3",
      "name": "python3"
    },
    "language_info": {
      "name": "python"
    },
    "widgets": {
      "application/vnd.jupyter.widget-state+json": {
        "23909518b4b14c6797d38bdb58e4559f": {
          "model_module": "@jupyter-widgets/controls",
          "model_module_version": "1.5.0",
          "model_name": "HTMLModel",
          "state": {
            "_dom_classes": [],
            "_model_module": "@jupyter-widgets/controls",
            "_model_module_version": "1.5.0",
            "_model_name": "HTMLModel",
            "_view_count": null,
            "_view_module": "@jupyter-widgets/controls",
            "_view_module_version": "1.5.0",
            "_view_name": "HTMLView",
            "description": "",
            "description_tooltip": null,
            "layout": "IPY_MODEL_5ace22dad5aa4af08baeb73cdb53906a",
            "placeholder": "​",
            "style": "IPY_MODEL_4b0acec0759443059ea71c7aa4d56966",
            "value": " 50/50 [00:00&lt;00:00, 80.44 examples/s]"
          }
        },
        "2495e1039e6642ebb2dd494b2ba7b415": {
          "model_module": "@jupyter-widgets/base",
          "model_module_version": "1.2.0",
          "model_name": "LayoutModel",
          "state": {
            "_model_module": "@jupyter-widgets/base",
            "_model_module_version": "1.2.0",
            "_model_name": "LayoutModel",
            "_view_count": null,
            "_view_module": "@jupyter-widgets/base",
            "_view_module_version": "1.2.0",
            "_view_name": "LayoutView",
            "align_content": null,
            "align_items": null,
            "align_self": null,
            "border": null,
            "bottom": null,
            "display": null,
            "flex": null,
            "flex_flow": null,
            "grid_area": null,
            "grid_auto_columns": null,
            "grid_auto_flow": null,
            "grid_auto_rows": null,
            "grid_column": null,
            "grid_gap": null,
            "grid_row": null,
            "grid_template_areas": null,
            "grid_template_columns": null,
            "grid_template_rows": null,
            "height": null,
            "justify_content": null,
            "justify_items": null,
            "left": null,
            "margin": null,
            "max_height": null,
            "max_width": null,
            "min_height": null,
            "min_width": null,
            "object_fit": null,
            "object_position": null,
            "order": null,
            "overflow": null,
            "overflow_x": null,
            "overflow_y": null,
            "padding": null,
            "right": null,
            "top": null,
            "visibility": null,
            "width": null
          }
        },
        "460c3f944ad5445788933bf745a148fe": {
          "model_module": "@jupyter-widgets/base",
          "model_module_version": "1.2.0",
          "model_name": "LayoutModel",
          "state": {
            "_model_module": "@jupyter-widgets/base",
            "_model_module_version": "1.2.0",
            "_model_name": "LayoutModel",
            "_view_count": null,
            "_view_module": "@jupyter-widgets/base",
            "_view_module_version": "1.2.0",
            "_view_name": "LayoutView",
            "align_content": null,
            "align_items": null,
            "align_self": null,
            "border": null,
            "bottom": null,
            "display": null,
            "flex": null,
            "flex_flow": null,
            "grid_area": null,
            "grid_auto_columns": null,
            "grid_auto_flow": null,
            "grid_auto_rows": null,
            "grid_column": null,
            "grid_gap": null,
            "grid_row": null,
            "grid_template_areas": null,
            "grid_template_columns": null,
            "grid_template_rows": null,
            "height": null,
            "justify_content": null,
            "justify_items": null,
            "left": null,
            "margin": null,
            "max_height": null,
            "max_width": null,
            "min_height": null,
            "min_width": null,
            "object_fit": null,
            "object_position": null,
            "order": null,
            "overflow": null,
            "overflow_x": null,
            "overflow_y": null,
            "padding": null,
            "right": null,
            "top": null,
            "visibility": null,
            "width": null
          }
        },
        "4aa67ddc7cf842abafee94a88981bb14": {
          "model_module": "@jupyter-widgets/base",
          "model_module_version": "1.2.0",
          "model_name": "LayoutModel",
          "state": {
            "_model_module": "@jupyter-widgets/base",
            "_model_module_version": "1.2.0",
            "_model_name": "LayoutModel",
            "_view_count": null,
            "_view_module": "@jupyter-widgets/base",
            "_view_module_version": "1.2.0",
            "_view_name": "LayoutView",
            "align_content": null,
            "align_items": null,
            "align_self": null,
            "border": null,
            "bottom": null,
            "display": null,
            "flex": null,
            "flex_flow": null,
            "grid_area": null,
            "grid_auto_columns": null,
            "grid_auto_flow": null,
            "grid_auto_rows": null,
            "grid_column": null,
            "grid_gap": null,
            "grid_row": null,
            "grid_template_areas": null,
            "grid_template_columns": null,
            "grid_template_rows": null,
            "height": null,
            "justify_content": null,
            "justify_items": null,
            "left": null,
            "margin": null,
            "max_height": null,
            "max_width": null,
            "min_height": null,
            "min_width": null,
            "object_fit": null,
            "object_position": null,
            "order": null,
            "overflow": null,
            "overflow_x": null,
            "overflow_y": null,
            "padding": null,
            "right": null,
            "top": null,
            "visibility": null,
            "width": null
          }
        },
        "4b0acec0759443059ea71c7aa4d56966": {
          "model_module": "@jupyter-widgets/controls",
          "model_module_version": "1.5.0",
          "model_name": "DescriptionStyleModel",
          "state": {
            "_model_module": "@jupyter-widgets/controls",
            "_model_module_version": "1.5.0",
            "_model_name": "DescriptionStyleModel",
            "_view_count": null,
            "_view_module": "@jupyter-widgets/base",
            "_view_module_version": "1.2.0",
            "_view_name": "StyleView",
            "description_width": ""
          }
        },
        "5ace22dad5aa4af08baeb73cdb53906a": {
          "model_module": "@jupyter-widgets/base",
          "model_module_version": "1.2.0",
          "model_name": "LayoutModel",
          "state": {
            "_model_module": "@jupyter-widgets/base",
            "_model_module_version": "1.2.0",
            "_model_name": "LayoutModel",
            "_view_count": null,
            "_view_module": "@jupyter-widgets/base",
            "_view_module_version": "1.2.0",
            "_view_name": "LayoutView",
            "align_content": null,
            "align_items": null,
            "align_self": null,
            "border": null,
            "bottom": null,
            "display": null,
            "flex": null,
            "flex_flow": null,
            "grid_area": null,
            "grid_auto_columns": null,
            "grid_auto_flow": null,
            "grid_auto_rows": null,
            "grid_column": null,
            "grid_gap": null,
            "grid_row": null,
            "grid_template_areas": null,
            "grid_template_columns": null,
            "grid_template_rows": null,
            "height": null,
            "justify_content": null,
            "justify_items": null,
            "left": null,
            "margin": null,
            "max_height": null,
            "max_width": null,
            "min_height": null,
            "min_width": null,
            "object_fit": null,
            "object_position": null,
            "order": null,
            "overflow": null,
            "overflow_x": null,
            "overflow_y": null,
            "padding": null,
            "right": null,
            "top": null,
            "visibility": null,
            "width": null
          }
        },
        "906d9356c1914dcb89300bf21508f102": {
          "model_module": "@jupyter-widgets/controls",
          "model_module_version": "1.5.0",
          "model_name": "DescriptionStyleModel",
          "state": {
            "_model_module": "@jupyter-widgets/controls",
            "_model_module_version": "1.5.0",
            "_model_name": "DescriptionStyleModel",
            "_view_count": null,
            "_view_module": "@jupyter-widgets/base",
            "_view_module_version": "1.2.0",
            "_view_name": "StyleView",
            "description_width": ""
          }
        },
        "aba4ee5b267b498697afade93d7906ee": {
          "model_module": "@jupyter-widgets/controls",
          "model_module_version": "1.5.0",
          "model_name": "HTMLModel",
          "state": {
            "_dom_classes": [],
            "_model_module": "@jupyter-widgets/controls",
            "_model_module_version": "1.5.0",
            "_model_name": "HTMLModel",
            "_view_count": null,
            "_view_module": "@jupyter-widgets/controls",
            "_view_module_version": "1.5.0",
            "_view_name": "HTMLView",
            "description": "",
            "description_tooltip": null,
            "layout": "IPY_MODEL_4aa67ddc7cf842abafee94a88981bb14",
            "placeholder": "​",
            "style": "IPY_MODEL_906d9356c1914dcb89300bf21508f102",
            "value": "Map: 100%"
          }
        },
        "cb649edb9db14234919154e9ac7cfa47": {
          "model_module": "@jupyter-widgets/controls",
          "model_module_version": "1.5.0",
          "model_name": "ProgressStyleModel",
          "state": {
            "_model_module": "@jupyter-widgets/controls",
            "_model_module_version": "1.5.0",
            "_model_name": "ProgressStyleModel",
            "_view_count": null,
            "_view_module": "@jupyter-widgets/base",
            "_view_module_version": "1.2.0",
            "_view_name": "StyleView",
            "bar_color": null,
            "description_width": ""
          }
        },
        "dc83df18c0b84fc4b93725ab1c160747": {
          "model_module": "@jupyter-widgets/controls",
          "model_module_version": "1.5.0",
          "model_name": "HBoxModel",
          "state": {
            "_dom_classes": [],
            "_model_module": "@jupyter-widgets/controls",
            "_model_module_version": "1.5.0",
            "_model_name": "HBoxModel",
            "_view_count": null,
            "_view_module": "@jupyter-widgets/controls",
            "_view_module_version": "1.5.0",
            "_view_name": "HBoxView",
            "box_style": "",
            "children": [
              "IPY_MODEL_aba4ee5b267b498697afade93d7906ee",
              "IPY_MODEL_f7966504cc304ef9afaac478dd42b32d",
              "IPY_MODEL_23909518b4b14c6797d38bdb58e4559f"
            ],
            "layout": "IPY_MODEL_2495e1039e6642ebb2dd494b2ba7b415"
          }
        },
        "f7966504cc304ef9afaac478dd42b32d": {
          "model_module": "@jupyter-widgets/controls",
          "model_module_version": "1.5.0",
          "model_name": "FloatProgressModel",
          "state": {
            "_dom_classes": [],
            "_model_module": "@jupyter-widgets/controls",
            "_model_module_version": "1.5.0",
            "_model_name": "FloatProgressModel",
            "_view_count": null,
            "_view_module": "@jupyter-widgets/controls",
            "_view_module_version": "1.5.0",
            "_view_name": "ProgressView",
            "bar_style": "success",
            "description": "",
            "description_tooltip": null,
            "layout": "IPY_MODEL_460c3f944ad5445788933bf745a148fe",
            "max": 50,
            "min": 0,
            "orientation": "horizontal",
            "style": "IPY_MODEL_cb649edb9db14234919154e9ac7cfa47",
            "value": 50
          }
        }
      }
    }
  },
  "nbformat": 4,
  "nbformat_minor": 0
}
